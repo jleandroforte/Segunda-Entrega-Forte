{
  "nbformat": 4,
  "nbformat_minor": 0,
  "metadata": {
    "colab": {
      "private_outputs": true,
      "provenance": [],
      "authorship_tag": "ABX9TyMQ5LoNgfBsAjrpJlyj6+yF",
      "include_colab_link": true
    },
    "kernelspec": {
      "name": "python3",
      "display_name": "Python 3"
    },
    "language_info": {
      "name": "python"
    }
  },
  "cells": [
    {
      "cell_type": "markdown",
      "metadata": {
        "id": "view-in-github",
        "colab_type": "text"
      },
      "source": [
        "<a href=\"https://colab.research.google.com/github/jleandroforte/Segunda-Entrega-Forte/blob/main/Segunda_pre_entrega_Forte.ipynb\" target=\"_parent\"><img src=\"https://colab.research.google.com/assets/colab-badge.svg\" alt=\"Open In Colab\"/></a>"
      ]
    },
    {
      "cell_type": "markdown",
      "source": [
        "#**Introduccion**\n",
        "\n",
        "El dataset con el que vamos a trabajar recopila datos de ventas y actividad de los clientes en el sitio web de una farmacia online a lo largo de 90 días.\n",
        "\n",
        "Tenemos información sobre varias características de los productos que serán detalladas en secciones siguientes, sus precios, los precios de la competencia y comportamiento de los clientes, si hacen click en un producto, si los colocan en una canasta de productos y finalmente si compran un producto. Nótese que no todas las líneas representan ventas.\n",
        "\n",
        "La clave del dataset es que la farmacia sigue una política de 'pricing dinámico' donde los precios de cada producto son ajustados diariamente, dentro de ciertas bandas."
      ],
      "metadata": {
        "id": "jUvJ0u1vDBiI"
      }
    },
    {
      "cell_type": "markdown",
      "source": [],
      "metadata": {
        "id": "IHgJHQXaY9TF"
      }
    },
    {
      "cell_type": "markdown",
      "source": [
        "#**Objetivos**\n",
        "\n",
        "Nuestro objetivo va a ser predecir el revenue, y para ello vamos a utilizar 2 enfoques:\n",
        "\n",
        "**Modelo de Regresion**\n",
        "\n",
        "basandonos en lo siguiente:\n",
        "\n",
        "> 1. Nuestros datos están etiquetados. En principio, no tenemos la necesidad de hacer un análisis no supervisado.\n",
        "\n",
        "> 2. La variable independiente es el revenue, o ingresos que generan las ventas (no todas las líneas representan ventas, por tanto, el revenue es 0 en muchas líneas), es una variable numérica continua, es decir, no son dicótomicas como podría requerir una regresión logística, con lo cual un modelo de regresión, en principio, se adecúa a nuestros objetivos. Recordemos que el objetivo al final del curso es usar este dataset para construir un modelo que **prediga** el revenue en base a las restantes variables donde, fundamentalmente, lo que cambia es el vector de precios.\n",
        "\n",
        "**Modelo de clasificación $decision$ $tree$**\n",
        "\n",
        "En este caso, no vamos a predecir directamente el revenue, sino la variable order, que, recordemos, toma valores 0 y 1, cuando es 1, significa que una línea representa una venta, y esa venta tiene un revenue asociado. Es decir, corremos ligeramente el foco del análisis, y como paso intermedio, exploramos **que variables determinan las ventas**\n"
      ],
      "metadata": {
        "id": "2kzll2dYDScI"
      }
    },
    {
      "cell_type": "code",
      "source": [
        "# Importamos las liberías necesarias.\n",
        "from google.colab import drive\n",
        "import os\n",
        "\n",
        "import numpy as np\n",
        "import pandas as pd\n",
        "import matplotlib.pyplot as plt\n",
        "import matplotlib as mpl\n",
        "import seaborn as sns\n",
        "import sklearn\n",
        "from sklearn.linear_model import LinearRegression\n",
        "from sklearn import metrics\n",
        "\n",
        "\n",
        "drive.mount('/content/drive')\n",
        "%cd '/content/drive/MyDrive/Entregas/DB'"
      ],
      "metadata": {
        "id": "GFSRjSMbDqPV"
      },
      "execution_count": null,
      "outputs": []
    },
    {
      "cell_type": "code",
      "source": [
        "# importamos los archivos y los combinamos en un solo dataset llamado 'farmacia' a través de la variable product id.\n",
        "\n",
        "pricing_class=pd.read_csv(\"class.csv\", sep='|')\n",
        "pricing_items=pd.read_csv('items.csv', sep='|')\n",
        "pricing_train=pd.read_csv('train.csv', sep='|')\n",
        "\n",
        "dataset = pd.merge(pricing_train, pricing_items, on='pid');\n",
        "farmacia=pd.DataFrame(dataset)"
      ],
      "metadata": {
        "id": "f51HuHj_DxTg"
      },
      "execution_count": null,
      "outputs": []
    },
    {
      "cell_type": "code",
      "source": [
        "farmacia"
      ],
      "metadata": {
        "id": "piHgBJosDzu_"
      },
      "execution_count": null,
      "outputs": []
    },
    {
      "cell_type": "code",
      "source": [
        "farmacia.shape"
      ],
      "metadata": {
        "id": "LhwBdEBRD0fG"
      },
      "execution_count": null,
      "outputs": []
    },
    {
      "cell_type": "code",
      "source": [
        "farmacia.info"
      ],
      "metadata": {
        "id": "mpCV9D1_D2FF"
      },
      "execution_count": null,
      "outputs": []
    },
    {
      "cell_type": "code",
      "source": [
        "farmacia.describe(include='all')"
      ],
      "metadata": {
        "id": "xD9uI8seD4dG"
      },
      "execution_count": null,
      "outputs": []
    },
    {
      "cell_type": "code",
      "source": [
        "farmacia.dtypes"
      ],
      "metadata": {
        "id": "cffQDD2KD5iY"
      },
      "execution_count": null,
      "outputs": []
    },
    {
      "cell_type": "markdown",
      "source": [
        "#**Descripción de las variables:**\n",
        "\n",
        "**Vamos a proceder a describir verbalmente nuestras variables, cuando se trate de variables que no varían en el tiempo, se explicita en la descripción**\n",
        "\n",
        "**day**: el día que se registra, recordemos que tenemos datos 91 días de ventas y otras acciones de usuarios en el sitio web. El datatype es int.\n",
        "\n",
        "**pid**: El id del producto, como vimos, tenemos más de 22 mil productos. El datatype es int, los productos se identifican por un numero, no por su nombre. Es una variable invariante.\n",
        "\n",
        "**adFlag**: Nos indica si el producto en cuestión es objeto de una campaña publicitaria. El valor 1 indica que hubo capaña, y 0 indica que no la hubo.\n",
        "\n",
        "**availability**: Status de disponibilidad de los productos, toma los valores {1,2,3,4}\n",
        "\n",
        "**competitorPrice** : El precio de la competencia para un producto. Es un floating point.\n",
        "\n",
        "**click, basket, order**: Denotan acciones de los usuarios, si hicieron click en un producto, si lo colocaron en un carrito de compra (pero no necesariamente lo compraron), mientras que order indica si efectivamente el registro denota una compra. Las 4 variables toman los valores {0,1}, donde 1 denota acción (compra, carrito de compra, click) y el 0 la ausencia de acción.\n",
        "\n",
        "**price**: El precio efectivamente asociado a la observacion. Recordemos que la farmacia sigue una estrategia de 'pricing dinámico', los precios de cada producto se ajustan día a día. También es importante tener en cuenta que no se trata de precios customizados para clientes, los ajustes de precios son diarios y automáticos. Esto introduce una gran variabilidad en las observaciones que nos permitirá evaluar la influencia de los precios en las ventas, y es el insumo fundamental para predecir la demanda futura en función de como ajustemos nuestros precios. El precio es un floating point.\n",
        "\n",
        "**revenue**: Los ingresos por ventas. Es decir, el precio multiplicado por las cantidades compradas (que no observamos, solo observamos precios, compras (la variable 'order') y revenue). El revenue es un floating point.\n",
        "\n",
        "**manufacturer**: El fabricante de cada producto. Se identifica mediante un numero entero. Es invariante, al igual que el product id.\n",
        "\n",
        "**group**: El grupo de productos, combina letras y numeros. Es invariante.\n",
        "\n",
        "**content**: El contenido de un producto, se identifica bajo la nomenclatura numeroXnumero, por caso: 5X10. Es invariante.\n",
        "\n",
        "**unit**: La unidad del producto, es un string de mayúsculas.Es invariante.\n",
        "\n",
        "**pharmForm**: La dosis: son 3 letras mayúsculas. Es invariante.\n",
        "\n",
        "**genericProduct**: Si se trata de un medicamento generico, toma los valores {0,1}, el 1 indica que se trata de un medicamento genérico. Es invariante.\n",
        "\n",
        "**salesIndex**: un código de dispensión de medicamentos de Estados unidos. Es un entero. Es invariante.\n",
        "\n",
        "**category**: categoría de negocio: es un numero de negocio. Es invariante.\n",
        "\n",
        "**campaignIndex**: Tipo de campaña publicitaria de que fue objeto el producto, toma los valores {A,B,C}\n",
        "\n",
        "**rrp**: El precio de referencia, recordemos que la farmacia ajusta los precios de cada producto diariamente, pero cada item tiene un precio de referencia, más adelante vamos a graficar algunos ejemplos. Es invariante, la variabilidad está en los precios efectivos."
      ],
      "metadata": {
        "id": "nxybtYAND-1g"
      }
    },
    {
      "cell_type": "markdown",
      "source": [
        "#**Módulo de Limpieza de datos**"
      ],
      "metadata": {
        "id": "FJdEGfCHEENZ"
      }
    },
    {
      "cell_type": "markdown",
      "source": [
        "#**Tratamiento de Missing Values**\n",
        "\n",
        "En primer lugar, vemos cuantos datos nos faltan por columna, y proponemos las siguientes soluciones para aquellas variables donde identificamos missing values:\n",
        "\n",
        "Para competitor price vamos a reemplazar los missing values por la mediana del precio por cada producto, no en general, en caso de no disponer de un precio para algún producto, se reemplaza por la mediana de la variable en el dataset completo.\n",
        "\n",
        "para pharmForm, al menos por ahora, vamos a reemplazar por el valor más frecuente, a nivel de producto y no en el agregado. No se pueden usar medidas como media o mediana porque no es una variable numérica.\n",
        "\n",
        "Para category usamos el mismo procedimiento que para pharmForm, con las mismas consideraciones.\n",
        "\n",
        "Para campaing index, que en el dataset toma los valores {A,B,C}, e indica el tipo de campaña publicitaria que se llevó a cabo, tenemos 2 tipos de tratamiento, dado que es dependiente de adFlag, solo cuando adFlag es igual a 1 hay campaña publicitaria, de modo que si adFlag==0, reemplazamos por \"D\", que es una manera de indicar que no hay campaña publicitaria, mientras que para los casos en que adFlag==1 reemplazamos por la moda o valor más repetido a nivel de producto."
      ],
      "metadata": {
        "id": "WLvFzwHUEPkK"
      }
    },
    {
      "cell_type": "code",
      "source": [
        "datos_faltantes = farmacia.isnull().sum()\n",
        "print(\"Datos faltantes por columna: \" , datos_faltantes)"
      ],
      "metadata": {
        "id": "WZ7FX8mxET_7"
      },
      "execution_count": null,
      "outputs": []
    },
    {
      "cell_type": "markdown",
      "source": [
        "Reemplazo de missing values para la variable competitorPrice, si a nivel de producto no hay una mediana, se reemplaza por la mediana de la columna en general."
      ],
      "metadata": {
        "id": "vLNMd0jLEW1Y"
      }
    },
    {
      "cell_type": "code",
      "source": [
        "medianas_faltantes = farmacia.groupby('pid')['competitorPrice'].transform('median') # recordemos que pid es 'Product Id', por eso hacemos el reemplazo a ese nivel.\n",
        "\n",
        "farmacia['competitorPrice'] = farmacia['competitorPrice'].fillna(medianas_faltantes)\n",
        "\n",
        "# En los casos no capturados por las lineas anteriores reemplazamos por la mediana general de la variable:\n",
        "mediana_competitorPrice = farmacia['competitorPrice'].median()\n",
        "\n",
        "farmacia['competitorPrice'] = farmacia['competitorPrice'].fillna(mediana_competitorPrice)"
      ],
      "metadata": {
        "id": "HHYig3_LEXkP"
      },
      "execution_count": null,
      "outputs": []
    },
    {
      "cell_type": "markdown",
      "source": [
        "Reemplazo de missing values para las variables pharmForm y category, estamos usando el valor más frecuente, por eso la función hace referencia a la moda (\"mode\")"
      ],
      "metadata": {
        "id": "ufT1mOjsEbXg"
      }
    },
    {
      "cell_type": "code",
      "source": [
        "def completar_pharmform(series):\n",
        "    if series.mode().empty:\n",
        "        return series\n",
        "    else:\n",
        "        moda_pharmForm = series.mode().iloc[0]\n",
        "        return series.fillna(moda_pharmForm)\n",
        "\n",
        "farmacia['pharmForm'] = farmacia.groupby('pid')['pharmForm'].transform(completar_pharmform)\n",
        "\n",
        "farmacia['pharmForm'].fillna('default_value', inplace=True) # esta ultima linea de codigo es para reemplazar missing values en casos no capturados por la funcion anterior."
      ],
      "metadata": {
        "id": "nx3H47yMEcz3"
      },
      "execution_count": null,
      "outputs": []
    },
    {
      "cell_type": "code",
      "source": [
        "def completar_category(series):\n",
        "    if series.mode().empty:\n",
        "        return series\n",
        "    else:\n",
        "        moda_category = series.mode().iloc[0]\n",
        "        return series.fillna(moda_category)\n",
        "\n",
        "farmacia['category'] = farmacia.groupby('pid')['category'].transform(completar_category)\n",
        "\n",
        "farmacia['category'].fillna('default_value', inplace=True) # esta ultima linea de codigo es para reemplazar missing values en casos no capturados por la funcion anterior.\n",
        "\n"
      ],
      "metadata": {
        "id": "F2bhO1HgEeSx"
      },
      "execution_count": null,
      "outputs": []
    },
    {
      "cell_type": "markdown",
      "source": [
        "Reemplazo de missing values para campaignIndex, recordemos el metodo:\n",
        "tenemos 2 tipos de tratamiento, dado que es dependiente de adFlag, solo cuando adFlag es igual a 1 hay campaña publicitaria, de modo que si adFlag==0, reemplazamos por \"D\" (ya que las campañas son {A,B,C}, y de esta forma con la \"D\" podemos identificar rápidamente que no hay campaña) para los casos en que adFlag==1 reemplazamos por la moda o valor más repetido a nivel de producto.  "
      ],
      "metadata": {
        "id": "2ib-k_GGEgYO"
      }
    },
    {
      "cell_type": "code",
      "source": [
        "farmacia['campaignIndex'].fillna('D', inplace=True)\n",
        "\n",
        "mask = (farmacia['adFlag'] == 1) & (farmacia['campaignIndex'].isna())\n",
        "farmacia.loc[mask, 'campaignIndex'] = farmacia[mask].groupby('pid')['campaignIndex'].transform(lambda x: x.mode().iloc[0])\n",
        "\n",
        "farmacia['campaignIndex'].fillna('default_value', inplace=True) # esta ultima linea de codigo es para reemplazar missing values en casos no capturados por la funcion anterior.\n"
      ],
      "metadata": {
        "id": "7XMvis-UEhyi"
      },
      "execution_count": null,
      "outputs": []
    },
    {
      "cell_type": "markdown",
      "source": [
        "Ahora constatamos que ya no tenemos más missing values:\n",
        "\n"
      ],
      "metadata": {
        "id": "F8Jh7crNEjsW"
      }
    },
    {
      "cell_type": "code",
      "source": [
        "datos_faltantes = farmacia.isnull().sum()\n",
        "print(\"Datos faltantes por columna: \" , datos_faltantes)\n"
      ],
      "metadata": {
        "id": "mm38dA54Ek5_"
      },
      "execution_count": null,
      "outputs": []
    },
    {
      "cell_type": "markdown",
      "source": [
        "#**Modelo de regresión lineal**"
      ],
      "metadata": {
        "id": "MAnVMLOVEt1Y"
      }
    },
    {
      "cell_type": "markdown",
      "source": [
        "##**Selección de variables para incluir como regresores**\n",
        "\n",
        "Usamos forward Selection"
      ],
      "metadata": {
        "id": "NJJ0ELfUHaTr"
      }
    },
    {
      "cell_type": "code",
      "source": [
        "!pip install mlxtend --upgrade # instalamos mlxtend"
      ],
      "metadata": {
        "id": "BoiqiWRFHmCj"
      },
      "execution_count": null,
      "outputs": []
    },
    {
      "cell_type": "markdown",
      "source": [
        "En esta sección generamos nuestras variable dependiente, y=revenue, y excluimos\n",
        "del análisis las variables no numéricas que no pudimos transformar mediante el encoding en la sección previa."
      ],
      "metadata": {
        "id": "9RuHkaHKsye-"
      }
    },
    {
      "cell_type": "code",
      "source": [
        "from sklearn.model_selection import train_test_split\n",
        "from sklearn.linear_model import LinearRegression\n",
        "from mlxtend.feature_selection import SequentialFeatureSelector as SFS"
      ],
      "metadata": {
        "id": "ZY9xWDshHwXJ"
      },
      "execution_count": null,
      "outputs": []
    },
    {
      "cell_type": "code",
      "source": [
        "X = farmacia.drop([ 'revenue' , 'group', 'unit', 'pharmForm', 'campaignIndex' , 'content', 'category', 'day'  ], axis=1)\n",
        "y = farmacia['revenue']"
      ],
      "metadata": {
        "id": "oU2xoshNs3Im"
      },
      "execution_count": null,
      "outputs": []
    },
    {
      "cell_type": "code",
      "source": [
        "print(X.dtypes) #volvemos a chequear que nuestros regresores son variables numericas aptas para implementar un modelo OLS.print(X.dtypes) #volvemos a chequear que nuestros regresores son variables numericas aptas para implementar un modelo OLS."
      ],
      "metadata": {
        "id": "gLUGZBB-uBNN"
      },
      "execution_count": null,
      "outputs": []
    },
    {
      "cell_type": "markdown",
      "source": [
        "##**División del Dataset en test y training sets**\n",
        "\n",
        "Establecemos que la fracción del dataset que usamos para testear es del 20%, tenemos un dataset grande, con 2,7 millones de observaciones, de modo que separar el 20% de las observaciones deber+ía ser suficiente para entrenar y testear modelos.\n"
      ],
      "metadata": {
        "id": "E6vW5BvyuGT1"
      }
    },
    {
      "cell_type": "code",
      "source": [
        "X_train, X_test, y_train, y_test = train_test_split(X, y, test_size=0.2, random_state=1)"
      ],
      "metadata": {
        "id": "zOYfHlDcuJGM"
      },
      "execution_count": null,
      "outputs": []
    },
    {
      "cell_type": "markdown",
      "source": [
        "##**Forward Selection**\n",
        "\n",
        ":La métrica a evaluar para determinar las variables relevantes es el r cuadrado de la regresión:"
      ],
      "metadata": {
        "id": "7beXNHP4uTyM"
      }
    },
    {
      "cell_type": "code",
      "source": [
        "#hacemos forward selection\n",
        "from mlxtend.feature_selection import SequentialFeatureSelector as SFS\n",
        "from sklearn.linear_model import LinearRegression\n",
        "# Sequential Forward Selection(sfs)\n",
        "sfs = SFS(LinearRegression(),\n",
        "          k_features=11,\n",
        "          forward=True,\n",
        "          floating=False,\n",
        "          scoring = 'r2',\n",
        "          cv = 0)"
      ],
      "metadata": {
        "id": "RLAfT_VbuV6B"
      },
      "execution_count": null,
      "outputs": []
    },
    {
      "cell_type": "code",
      "source": [
        "sfs = sfs.fit(X_train, y_train)\n",
        "sfs.k_feature_names_"
      ],
      "metadata": {
        "id": "yRx0KdJ5ucJj"
      },
      "execution_count": null,
      "outputs": []
    },
    {
      "cell_type": "markdown",
      "source": [
        "Vemos que nos quedamos con los siguientes regresores, que ya fueron explicados y analizados en detalle en secciones anteriores,\n",
        "\n",
        " > 'pid': Product ID\n",
        "\n",
        " > 'adFlag': Campaña de publicidad\n",
        "\n",
        " > 'competitorPrice' : Precio de la competencia\n",
        "\n",
        " > 'click' : Si los usuarios hacen click en un producto.\n",
        "\n",
        " > 'order' : Si los usuarios compran un producto\n",
        "\n",
        " > 'price': Precio efectivo de venta\n",
        "\n",
        " > 'genericProduct': Si el producto es un medicamento genérico\n",
        "\n",
        " > 'salesIndex': un código de dispensión de medicamentos de Estados unidos.\n",
        "\n",
        " > 'rrp' : Precios de referencia\n",
        "\n",
        " LineId no es un regresor a pesar del resultado del SFS porque es simplemente el orden en el que vienen los datos y no responde a ninguna caracteristica de los productos."
      ],
      "metadata": {
        "id": "Vhlqx_Umu2PI"
      }
    },
    {
      "cell_type": "markdown",
      "source": [
        "##**Estimacion del modelo OLS**\n",
        "\n",
        "Y finalmente estimamos un modelo simple de OLS donde tratamos de predecir el revenue en función de los regresores que nos arroja el modelo de forward selection implementado más arriba.\n"
      ],
      "metadata": {
        "id": "8mIYm_iOvQaf"
      }
    },
    {
      "cell_type": "markdown",
      "source": [
        "Como paso previo regeneramos nuesto vector de variables independientes (\"X\") para que solo incluya los regresores que surjen como resultado del Forward Selection"
      ],
      "metadata": {
        "id": "wPFLssNpvirs"
      }
    },
    {
      "cell_type": "code",
      "source": [
        "X = farmacia.drop([ 'revenue' , 'basket', 'campaignIndex', 'category', 'content' , 'day' , 'group', 'lineID' , 'manufacturer' , 'unit' , 'pharmForm'  ], axis=1)\n",
        "y = farmacia['revenue']"
      ],
      "metadata": {
        "id": "TxefAtn2vsfs"
      },
      "execution_count": null,
      "outputs": []
    },
    {
      "cell_type": "code",
      "source": [
        "X_train, X_test, y_train, y_test = train_test_split(X, y, test_size=0.2, random_state=1)"
      ],
      "metadata": {
        "id": "6OR04nWfzXPN"
      },
      "execution_count": null,
      "outputs": []
    },
    {
      "cell_type": "code",
      "source": [
        "import statsmodels.api as sm\n",
        "\n",
        "modelo_ols = sm.OLS(y_train, X_train).fit()\n",
        "print(model.summary())"
      ],
      "metadata": {
        "id": "4a5kuBXDvVIH"
      },
      "execution_count": null,
      "outputs": []
    },
    {
      "cell_type": "markdown",
      "source": [
        "Como vemos, el r2 es de solo 0.528. Como se muestra en el siguiente apartado, las correlaciones de los regresores con el revenue es relativametne débil, y, en mi opinión, por ahí pasa la clave por las poca efectividad del modelo.\n",
        "\n",
        "También vamos a tener que estudiar la multicolinealidad de los regresores, como indica la propia salida del modelo.\n",
        "\n",
        "Deberemos estudiar modelos no lineales u otros algoritmos de regresión más sofisticados para mejorar nuestras predicciones.\n",
        "\n",
        "Otras observaciones que surgen del resultado de la regresión lineal son,\n",
        "\n",
        "Los p-values son bajos, pero deben entenderse en el contexto de un modelo no muy potente.\n",
        "\n",
        "> El hecho de que la covariance Type esté indicada como no robusta implica que probablemente no estemos cumpliendo algunos de los supuestos necesarios para hacer regresión, como normalidad multicolinealidad.\n",
        "\n",
        "> Yendo a los signos de los coeficientes de la regresión, algunos de los resultados son esperables, más allá de que el modelo en general no sea adecuado, a saber:\n",
        "\n",
        "  adFlag es positivo, habíamos visto en los desafíos anteriores que el revenue asociado a los productos publicitados era más alto que los no publicitados, lo que en principio habla de una cierta efectividad de la publicidad\n",
        "\n",
        "  click y basket son negativos, mientras que order es positivo, dado que order indica compra, es lógico esperar una relación positiva. En cuanto a click y basket, es necesario un análisis detallado sobre que lleva a los usuarios que hacen click en un producto a no generar revenue, y ver que tan estrecha es la relación entre click, basket y order.\n",
        "\n",
        "  price tiene un coeficiente ligeramente negativo."
      ],
      "metadata": {
        "id": "dluPkOgh6JmJ"
      }
    },
    {
      "cell_type": "code",
      "source": [
        "y_pred = modelo_ols.predict(X_test)\n"
      ],
      "metadata": {
        "id": "0v6aWUHl1Ucd"
      },
      "execution_count": null,
      "outputs": []
    },
    {
      "cell_type": "markdown",
      "source": [
        "Generamos la tabla de comparaciones entre actual y predicted, pero dado el total de observaciones (más de 550 mil), va a ser más util graficarlo.\n"
      ],
      "metadata": {
        "id": "-oIxLU2K1pvO"
      }
    },
    {
      "cell_type": "code",
      "source": [
        "comparacion = pd.DataFrame({'valor_real': y_test, 'valor_predicho': y_pred})\n",
        "print(comparacion)"
      ],
      "metadata": {
        "id": "yPJT9Dyt1moV"
      },
      "execution_count": null,
      "outputs": []
    },
    {
      "cell_type": "code",
      "source": [
        "sns.scatterplot(x='valor_real', y='valor_predicho', data=comparacion)\n",
        "plt.xlabel('Valores reales en el subset de testing')\n",
        "plt.ylabel('Valores predichos por la regresión')\n",
        "plt.title('Comparación de valores reales y predichos por el modelo')\n",
        "plt.show()"
      ],
      "metadata": {
        "id": "IENyfIua1umc"
      },
      "execution_count": null,
      "outputs": []
    },
    {
      "cell_type": "markdown",
      "source": [
        "##**Correlación de los regresores**\n",
        "\n",
        "En esta sección vemos que los regresores no están muy fuertemente correlacionados con la variable dependiente, como se mencionaba más arriba, lo cual es fundamental para entender la poca potencia del modelo de regresión lineal para predecir el revenue."
      ],
      "metadata": {
        "id": "17HGRU606OWS"
      }
    },
    {
      "cell_type": "code",
      "source": [
        "regresores=X\n",
        "\n",
        "correlaciones=regresores.corrwith(farmacia['revenue'])\n",
        "print(correlaciones)"
      ],
      "metadata": {
        "id": "VGkBOWx76ZAB"
      },
      "execution_count": null,
      "outputs": []
    },
    {
      "cell_type": "markdown",
      "source": [
        "#**Aplicación de un modelo de árbol de decisión para predecir ventas**\n",
        "\n",
        "Como se excplicó en trabajos y secciones anteriores, tenemos una variable llamada order que toma valores 0 (no hay venta en el registro) y 1 (la fila representa una venta).\n",
        "\n",
        "Dado que los precios son positivos, las ventas generan revenues, entonces, vamos a tomar un enfoque indirecto, y estimar un modelo de árbol de decisión para predecir el valor de la variable order. Si conocemos los precios (y en este dataset siempre conocemos los precios), y si podemos predecir si habrá ventas, entonces estaremos en una buena posición para predecir el revenue."
      ],
      "metadata": {
        "id": "6vxfvZyUY_78"
      }
    },
    {
      "cell_type": "markdown",
      "source": [
        "##**Selección de variables explicativas y variable dependiente y creacion de test & training sets**"
      ],
      "metadata": {
        "id": "tSjCTHDDZJo8"
      }
    },
    {
      "cell_type": "code",
      "source": [
        "from sklearn import tree\n",
        "from sklearn.tree import DecisionTreeClassifier\n",
        "from sklearn import tree\n",
        "from sklearn.metrics import mean_squared_error\n",
        "from sklearn.metrics import accuracy_score\n",
        "from sklearn.metrics import confusion_matrix\n",
        "from sklearn.metrics import precision_score\n",
        "from sklearn.tree import plot_tree\n"
      ],
      "metadata": {
        "id": "w6xc0P2SaDvy"
      },
      "execution_count": null,
      "outputs": []
    },
    {
      "cell_type": "markdown",
      "source": [
        "Dividimos el dataset en variable dependiente (order) y explicativas."
      ],
      "metadata": {
        "id": "4UGvNDQqacoC"
      }
    },
    {
      "cell_type": "code",
      "source": [
        "X = farmacia.drop(['order', 'lineID', 'group' , 'content', 'pharmForm','unit','category','campaignIndex'], axis=1) #group lo eliminamos porque ya tenemos Product ID, y group son agrupamientos de ellos. LineID es simplemente el codigo de linea\n",
        "\n",
        "y =farmacia['order']"
      ],
      "metadata": {
        "id": "nR9gnu-GaK3i"
      },
      "execution_count": null,
      "outputs": []
    },
    {
      "cell_type": "code",
      "source": [
        "#Nos aseguramos que nuestras variables explicativas no sean string\n",
        "\n",
        "print(X.dtypes)"
      ],
      "metadata": {
        "id": "sjYUS50dh5p8"
      },
      "execution_count": null,
      "outputs": []
    },
    {
      "cell_type": "markdown",
      "source": [
        "Dividimos el dataset en sets de train y test. Tomamos el 20% de la muestra para testear."
      ],
      "metadata": {
        "id": "4J-0WKz6a9Ge"
      }
    },
    {
      "cell_type": "code",
      "source": [
        "X_train, X_test, y_train, y_test = train_test_split(X, y, test_size=0.2, random_state=1)"
      ],
      "metadata": {
        "id": "xppiGKiSawCL"
      },
      "execution_count": null,
      "outputs": []
    },
    {
      "cell_type": "markdown",
      "source": [
        "##**Creamos y ajistamos el modelo de árbol de decisión**"
      ],
      "metadata": {
        "id": "0ECR6vOC314s"
      }
    },
    {
      "cell_type": "code",
      "source": [
        "clf=DecisionTreeClassifier(random_state=1234, max_depth=4)"
      ],
      "metadata": {
        "id": "4eu58QmZbF_C"
      },
      "execution_count": null,
      "outputs": []
    },
    {
      "cell_type": "code",
      "source": [
        "clf.fit(X_train,y_train)"
      ],
      "metadata": {
        "id": "UIgOzJNLbLhs"
      },
      "execution_count": null,
      "outputs": []
    },
    {
      "cell_type": "code",
      "source": [
        "predicciones = clf.predict(X_test)\n",
        "\n",
        "\n",
        "print(accuracy_score(y_test,predicciones))"
      ],
      "metadata": {
        "id": "uQnDOD0Ti4IB"
      },
      "execution_count": null,
      "outputs": []
    },
    {
      "cell_type": "code",
      "source": [
        "comparacion = pd.DataFrame({'valor_real': y_test, 'valor_predicho': y_pred})\n",
        "print(comparacion)"
      ],
      "metadata": {
        "id": "7wH9P6fu4Vhp"
      },
      "execution_count": null,
      "outputs": []
    },
    {
      "cell_type": "code",
      "source": [
        "confusion_matrix(y_test,predicciones, labels=[0,1])"
      ],
      "metadata": {
        "id": "cAEp_gVxqH3u"
      },
      "execution_count": null,
      "outputs": []
    },
    {
      "cell_type": "code",
      "source": [
        "precision_score(y_test, predicciones)"
      ],
      "metadata": {
        "id": "CF_1oHI_q1tZ"
      },
      "execution_count": null,
      "outputs": []
    },
    {
      "cell_type": "code",
      "source": [
        "plot_tree(clf, fontsize=10)\n",
        "plt.show()"
      ],
      "metadata": {
        "id": "lekJOIODvOBd"
      },
      "execution_count": null,
      "outputs": []
    },
    {
      "cell_type": "markdown",
      "source": [
        "Como puede verse, el modelo de árbol de decisión es relativamente eficaz a la hora de predecir la variable 'order'."
      ],
      "metadata": {
        "id": "CdE7wuOH4IVj"
      }
    }
  ]
}